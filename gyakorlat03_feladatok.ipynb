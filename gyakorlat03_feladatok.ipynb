{
    "metadata": {
        "kernelspec": {
            "name": "SQL",
            "display_name": "SQL",
            "language": "sql"
        },
        "language_info": {
            "name": "sql",
            "version": ""
        },
        "extensions": {
            "azuredatastudio": {
                "version": 1,
                "views": []
            }
        }
    },
    "nbformat_minor": 2,
    "nbformat": 4,
    "cells": [
        {
            "cell_type": "markdown",
            "source": [
                "**Az első 5 feladat ismétlés (többtáblás lekérdezések) a tanulmányi adatbázisból**\n",
                "\n",
                "1. Készítsünk listát arról, hogy melyik óra melyik teremben van!\n",
                "    \n",
                "    1. Jelenítsük meg az óra azonosítóját és a terem nevét!\n",
                "    2. A listát szűrjük a 3 karakter hosszú, \\[100;199\\] zárt intervallumba eső termekre! Feltesszük, hogy a 3 karakter hosszú terem nevek csak számjegyeket tartalmaznak."
            ],
            "metadata": {
                "azdata_cell_guid": "77f2d5b3-38e9-41cc-893f-f5afd02b97ef"
            },
            "attachments": {}
        },
        {
            "cell_type": "code",
            "source": [
                "SELECT *\r\n",
                "FROM Orak o join Termek t on t.Tkód = o.terem\r\n",
                "WHERE LEN(t.terem) = 3 and t.Terem BETWEEN 100 and 199"
            ],
            "metadata": {
                "azdata_cell_guid": "bd3cef1a-4e6e-4ece-9dc3-aaa9d2b5d66d",
                "language": "sql"
            },
            "outputs": [
                {
                    "output_type": "display_data",
                    "data": {
                        "text/html": "(30 rows affected)"
                    },
                    "metadata": {}
                },
                {
                    "output_type": "display_data",
                    "data": {
                        "text/html": "Total execution time: 00:00:00.012"
                    },
                    "metadata": {}
                },
                {
                    "output_type": "execute_result",
                    "execution_count": 4,
                    "data": {
                        "application/vnd.dataresource+json": {
                            "schema": {
                                "fields": [
                                    {
                                        "name": "ora_id"
                                    },
                                    {
                                        "name": "tanar"
                                    },
                                    {
                                        "name": "nap"
                                    },
                                    {
                                        "name": "Sav"
                                    },
                                    {
                                        "name": "targy"
                                    },
                                    {
                                        "name": "terem"
                                    },
                                    {
                                        "name": "Tkód"
                                    },
                                    {
                                        "name": "Terem"
                                    }
                                ]
                            },
                            "data": [
                                {
                                    "ora_id": "159",
                                    "tanar": "4",
                                    "nap": "3",
                                    "Sav": "1",
                                    "targy": "1",
                                    "terem": "1",
                                    "Tkód": "1",
                                    "Terem": "117"
                                },
                                {
                                    "ora_id": "160",
                                    "tanar": "8",
                                    "nap": "2",
                                    "Sav": "5",
                                    "targy": "1",
                                    "terem": "2",
                                    "Tkód": "2",
                                    "Terem": "118"
                                },
                                {
                                    "ora_id": "161",
                                    "tanar": "8",
                                    "nap": "1",
                                    "Sav": "2",
                                    "targy": "1",
                                    "terem": "2",
                                    "Tkód": "2",
                                    "Terem": "118"
                                },
                                {
                                    "ora_id": "162",
                                    "tanar": "20",
                                    "nap": "1",
                                    "Sav": "4",
                                    "targy": "1",
                                    "terem": "3",
                                    "Tkód": "3",
                                    "Terem": "119"
                                },
                                {
                                    "ora_id": "163",
                                    "tanar": "3",
                                    "nap": "3",
                                    "Sav": "2",
                                    "targy": "1",
                                    "terem": "4",
                                    "Tkód": "4",
                                    "Terem": "120"
                                },
                                {
                                    "ora_id": "164",
                                    "tanar": "7",
                                    "nap": "2",
                                    "Sav": "3",
                                    "targy": "1",
                                    "terem": "3",
                                    "Tkód": "3",
                                    "Terem": "119"
                                },
                                {
                                    "ora_id": "165",
                                    "tanar": "3",
                                    "nap": "2",
                                    "Sav": "3",
                                    "targy": "1",
                                    "terem": "3",
                                    "Tkód": "3",
                                    "Terem": "119"
                                },
                                {
                                    "ora_id": "166",
                                    "tanar": "3",
                                    "nap": "2",
                                    "Sav": "4",
                                    "targy": "1",
                                    "terem": "3",
                                    "Tkód": "3",
                                    "Terem": "119"
                                },
                                {
                                    "ora_id": "167",
                                    "tanar": "2",
                                    "nap": "1",
                                    "Sav": "4",
                                    "targy": "1",
                                    "terem": "4",
                                    "Tkód": "4",
                                    "Terem": "120"
                                },
                                {
                                    "ora_id": "170",
                                    "tanar": "104",
                                    "nap": "1",
                                    "Sav": "2",
                                    "targy": "1",
                                    "terem": "4",
                                    "Tkód": "4",
                                    "Terem": "120"
                                },
                                {
                                    "ora_id": "172",
                                    "tanar": "7",
                                    "nap": "2",
                                    "Sav": "2",
                                    "targy": "1",
                                    "terem": "3",
                                    "Tkód": "3",
                                    "Terem": "119"
                                },
                                {
                                    "ora_id": "173",
                                    "tanar": "20",
                                    "nap": "4",
                                    "Sav": "3",
                                    "targy": "1",
                                    "terem": "3",
                                    "Tkód": "3",
                                    "Terem": "119"
                                },
                                {
                                    "ora_id": "175",
                                    "tanar": "14",
                                    "nap": "4",
                                    "Sav": "4",
                                    "targy": "1",
                                    "terem": "4",
                                    "Tkód": "4",
                                    "Terem": "120"
                                },
                                {
                                    "ora_id": "176",
                                    "tanar": "20",
                                    "nap": "4",
                                    "Sav": "4",
                                    "targy": "1",
                                    "terem": "2",
                                    "Tkód": "2",
                                    "Terem": "118"
                                },
                                {
                                    "ora_id": "177",
                                    "tanar": "2",
                                    "nap": "4",
                                    "Sav": "5",
                                    "targy": "1",
                                    "terem": "3",
                                    "Tkód": "3",
                                    "Terem": "119"
                                },
                                {
                                    "ora_id": "179",
                                    "tanar": "2",
                                    "nap": "4",
                                    "Sav": "7",
                                    "targy": "1",
                                    "terem": "4",
                                    "Tkód": "4",
                                    "Terem": "120"
                                },
                                {
                                    "ora_id": "180",
                                    "tanar": "111",
                                    "nap": "4",
                                    "Sav": "7",
                                    "targy": "1",
                                    "terem": "3",
                                    "Tkód": "3",
                                    "Terem": "119"
                                },
                                {
                                    "ora_id": "181",
                                    "tanar": "2",
                                    "nap": "5",
                                    "Sav": "1",
                                    "targy": "1",
                                    "terem": "2",
                                    "Tkód": "2",
                                    "Terem": "118"
                                },
                                {
                                    "ora_id": "185",
                                    "tanar": "2",
                                    "nap": "4",
                                    "Sav": "3",
                                    "targy": "1",
                                    "terem": "4",
                                    "Tkód": "4",
                                    "Terem": "120"
                                },
                                {
                                    "ora_id": "192",
                                    "tanar": "12",
                                    "nap": "1",
                                    "Sav": "7",
                                    "targy": "5",
                                    "terem": "3",
                                    "Tkód": "3",
                                    "Terem": "119"
                                },
                                {
                                    "ora_id": "195",
                                    "tanar": "5",
                                    "nap": "1",
                                    "Sav": "5",
                                    "targy": "5",
                                    "terem": "12",
                                    "Tkód": "12",
                                    "Terem": "116"
                                },
                                {
                                    "ora_id": "197",
                                    "tanar": "9",
                                    "nap": "4",
                                    "Sav": "1",
                                    "targy": "5",
                                    "terem": "16",
                                    "Tkód": "16",
                                    "Terem": "116"
                                },
                                {
                                    "ora_id": "198",
                                    "tanar": "9",
                                    "nap": "3",
                                    "Sav": "2",
                                    "targy": "5",
                                    "terem": "3",
                                    "Tkód": "3",
                                    "Terem": "119"
                                },
                                {
                                    "ora_id": "204",
                                    "tanar": "108",
                                    "nap": "2",
                                    "Sav": "5",
                                    "targy": "4",
                                    "terem": "4",
                                    "Tkód": "4",
                                    "Terem": "120"
                                },
                                {
                                    "ora_id": "212",
                                    "tanar": "7",
                                    "nap": "1",
                                    "Sav": "9",
                                    "targy": "8",
                                    "terem": "4",
                                    "Tkód": "4",
                                    "Terem": "120"
                                },
                                {
                                    "ora_id": "218",
                                    "tanar": "8",
                                    "nap": "2",
                                    "Sav": "7",
                                    "targy": "3",
                                    "terem": "2",
                                    "Tkód": "2",
                                    "Terem": "118"
                                },
                                {
                                    "ora_id": "220",
                                    "tanar": "1",
                                    "nap": "2",
                                    "Sav": "3",
                                    "targy": "10",
                                    "terem": "3",
                                    "Tkód": "3",
                                    "Terem": "119"
                                },
                                {
                                    "ora_id": "222",
                                    "tanar": "1",
                                    "nap": "4",
                                    "Sav": "5",
                                    "targy": "10",
                                    "terem": "12",
                                    "Tkód": "12",
                                    "Terem": "116"
                                },
                                {
                                    "ora_id": "226",
                                    "tanar": "2",
                                    "nap": "3",
                                    "Sav": "3",
                                    "targy": "19",
                                    "terem": "1",
                                    "Tkód": "1",
                                    "Terem": "117"
                                },
                                {
                                    "ora_id": "227",
                                    "tanar": "2",
                                    "nap": "2",
                                    "Sav": "5",
                                    "targy": "4",
                                    "terem": "12",
                                    "Tkód": "12",
                                    "Terem": "116"
                                }
                            ]
                        },
                        "text/html": "<table><tr><th>ora_id</th><th>tanar</th><th>nap</th><th>Sav</th><th>targy</th><th>terem</th><th>Tkód</th><th>Terem</th></tr><tr><td>159</td><td>4</td><td>3</td><td>1</td><td>1</td><td>1</td><td>1</td><td>117</td></tr><tr><td>160</td><td>8</td><td>2</td><td>5</td><td>1</td><td>2</td><td>2</td><td>118</td></tr><tr><td>161</td><td>8</td><td>1</td><td>2</td><td>1</td><td>2</td><td>2</td><td>118</td></tr><tr><td>162</td><td>20</td><td>1</td><td>4</td><td>1</td><td>3</td><td>3</td><td>119</td></tr><tr><td>163</td><td>3</td><td>3</td><td>2</td><td>1</td><td>4</td><td>4</td><td>120</td></tr><tr><td>164</td><td>7</td><td>2</td><td>3</td><td>1</td><td>3</td><td>3</td><td>119</td></tr><tr><td>165</td><td>3</td><td>2</td><td>3</td><td>1</td><td>3</td><td>3</td><td>119</td></tr><tr><td>166</td><td>3</td><td>2</td><td>4</td><td>1</td><td>3</td><td>3</td><td>119</td></tr><tr><td>167</td><td>2</td><td>1</td><td>4</td><td>1</td><td>4</td><td>4</td><td>120</td></tr><tr><td>170</td><td>104</td><td>1</td><td>2</td><td>1</td><td>4</td><td>4</td><td>120</td></tr><tr><td>172</td><td>7</td><td>2</td><td>2</td><td>1</td><td>3</td><td>3</td><td>119</td></tr><tr><td>173</td><td>20</td><td>4</td><td>3</td><td>1</td><td>3</td><td>3</td><td>119</td></tr><tr><td>175</td><td>14</td><td>4</td><td>4</td><td>1</td><td>4</td><td>4</td><td>120</td></tr><tr><td>176</td><td>20</td><td>4</td><td>4</td><td>1</td><td>2</td><td>2</td><td>118</td></tr><tr><td>177</td><td>2</td><td>4</td><td>5</td><td>1</td><td>3</td><td>3</td><td>119</td></tr><tr><td>179</td><td>2</td><td>4</td><td>7</td><td>1</td><td>4</td><td>4</td><td>120</td></tr><tr><td>180</td><td>111</td><td>4</td><td>7</td><td>1</td><td>3</td><td>3</td><td>119</td></tr><tr><td>181</td><td>2</td><td>5</td><td>1</td><td>1</td><td>2</td><td>2</td><td>118</td></tr><tr><td>185</td><td>2</td><td>4</td><td>3</td><td>1</td><td>4</td><td>4</td><td>120</td></tr><tr><td>192</td><td>12</td><td>1</td><td>7</td><td>5</td><td>3</td><td>3</td><td>119</td></tr><tr><td>195</td><td>5</td><td>1</td><td>5</td><td>5</td><td>12</td><td>12</td><td>116</td></tr><tr><td>197</td><td>9</td><td>4</td><td>1</td><td>5</td><td>16</td><td>16</td><td>116</td></tr><tr><td>198</td><td>9</td><td>3</td><td>2</td><td>5</td><td>3</td><td>3</td><td>119</td></tr><tr><td>204</td><td>108</td><td>2</td><td>5</td><td>4</td><td>4</td><td>4</td><td>120</td></tr><tr><td>212</td><td>7</td><td>1</td><td>9</td><td>8</td><td>4</td><td>4</td><td>120</td></tr><tr><td>218</td><td>8</td><td>2</td><td>7</td><td>3</td><td>2</td><td>2</td><td>118</td></tr><tr><td>220</td><td>1</td><td>2</td><td>3</td><td>10</td><td>3</td><td>3</td><td>119</td></tr><tr><td>222</td><td>1</td><td>4</td><td>5</td><td>10</td><td>12</td><td>12</td><td>116</td></tr><tr><td>226</td><td>2</td><td>3</td><td>3</td><td>19</td><td>1</td><td>1</td><td>117</td></tr><tr><td>227</td><td>2</td><td>2</td><td>5</td><td>4</td><td>12</td><td>12</td><td>116</td></tr></table>"
                    },
                    "metadata": {}
                }
            ],
            "execution_count": 4
        },
        {
            "cell_type": "markdown",
            "source": [
                "2. <span style=\"font-weight: 600; color: rgb(36, 41, 47); font-family: -apple-system, BlinkMacSystemFont, &quot;Segoe UI&quot;, Helvetica, Arial, sans-serif, &quot;Apple Color Emoji&quot;, &quot;Segoe UI Emoji&quot;; font-size: 16px;\">Hány óra van összesen az egyes napokon?</span>\n",
                "\n",
                "1. Jelenítsük meg a napok nevét és az órák számát az adott napon!\n",
                "2. Az oszlopokat nevezzük el értelemszerűen!\n",
                "3. A listát rendezzük óraszám szerint növekvő sorrendbe!"
            ],
            "metadata": {
                "azdata_cell_guid": "88f5b4bb-f4c1-4bad-a0c7-b2592687b422"
            },
            "attachments": {}
        },
        {
            "cell_type": "code",
            "source": [
                "select n.nap as 'Nap', count(o.ora_id) as 'Órák mennyisége'\r\n",
                "from orak o join napok n on o.nap = n.nap_id\r\n",
                "GROUP BY n.nap\r\n",
                "order BY COUNT(*) "
            ],
            "metadata": {
                "azdata_cell_guid": "e9de5726-f036-4fb9-8c33-a873955ed886",
                "language": "sql"
            },
            "outputs": [
                {
                    "output_type": "display_data",
                    "data": {
                        "text/html": "(5 rows affected)"
                    },
                    "metadata": {}
                },
                {
                    "output_type": "display_data",
                    "data": {
                        "text/html": "Total execution time: 00:00:00.011"
                    },
                    "metadata": {}
                },
                {
                    "output_type": "execute_result",
                    "execution_count": 1,
                    "data": {
                        "application/vnd.dataresource+json": {
                            "schema": {
                                "fields": [
                                    {
                                        "name": "Nap"
                                    },
                                    {
                                        "name": "Órák mennyisége"
                                    }
                                ]
                            },
                            "data": [
                                {
                                    "Nap": "Péntek",
                                    "Órák mennyisége": "6"
                                },
                                {
                                    "Nap": "Szerda",
                                    "Órák mennyisége": "6"
                                },
                                {
                                    "Nap": "Kedd",
                                    "Órák mennyisége": "13"
                                },
                                {
                                    "Nap": "Csütörtök",
                                    "Órák mennyisége": "19"
                                },
                                {
                                    "Nap": "Hétfő",
                                    "Órák mennyisége": "23"
                                }
                            ]
                        },
                        "text/html": "<table><tr><th>Nap</th><th>Órák mennyisége</th></tr><tr><td>Péntek</td><td>6</td></tr><tr><td>Szerda</td><td>6</td></tr><tr><td>Kedd</td><td>13</td></tr><tr><td>Csütörtök</td><td>19</td></tr><tr><td>Hétfő</td><td>23</td></tr></table>"
                    },
                    "metadata": {}
                }
            ],
            "execution_count": 1
        },
        {
            "cell_type": "markdown",
            "source": [
                "3. <span style=\"font-weight: 600; color: rgb(36, 41, 47); font-family: -apple-system, BlinkMacSystemFont, &quot;Segoe UI&quot;, Helvetica, Arial, sans-serif, &quot;Apple Color Emoji&quot;, &quot;Segoe UI Emoji&quot;; font-size: 16px;\">Készítsünk listát arról, hogy melyik oktatónak hány órája van az Órák táblában!</span>\n",
                "\n",
                "1. A lista jelenítse meg az oktatók nevét, és az órák számát!\n",
                "2. Az oszlopokat nevezzük el értelemszerűen!\n",
                "3. A listából hagyjuk ki az óraadókat!"
            ],
            "metadata": {
                "azdata_cell_guid": "9e7249de-1b59-43d8-84b1-26fa7d81fc5a"
            },
            "attachments": {}
        },
        {
            "cell_type": "code",
            "source": [
                "SELECT ok.nev as 'Oktatók neve' ,COUNT(o.ora_id) as 'Órák mennyisége'\r\n",
                "from Oktatok ok join Orak o on  o.tanar = ok.oktato_id\r\n",
                "                join Beosztasok b on ok.beosztás = b.beosztas_id \r\n",
                "GROUP BY ok.nev\r\n",
                ""
            ],
            "metadata": {
                "azdata_cell_guid": "6405d3e8-a9b1-45d7-aa76-3b1e785ef6cc",
                "language": "sql"
            },
            "outputs": [
                {
                    "output_type": "display_data",
                    "data": {
                        "text/html": "(20 rows affected)"
                    },
                    "metadata": {}
                },
                {
                    "output_type": "display_data",
                    "data": {
                        "text/html": "Total execution time: 00:00:00.007"
                    },
                    "metadata": {}
                },
                {
                    "output_type": "execute_result",
                    "execution_count": 6,
                    "data": {
                        "application/vnd.dataresource+json": {
                            "schema": {
                                "fields": [
                                    {
                                        "name": "Oktatók neve"
                                    },
                                    {
                                        "name": "Órák mennyisége"
                                    }
                                ]
                            },
                            "data": [
                                {
                                    "Oktatók neve": "Aranyi Mária",
                                    "Órák mennyisége": "1"
                                },
                                {
                                    "Oktatók neve": "Balkán András",
                                    "Órák mennyisége": "3"
                                },
                                {
                                    "Oktatók neve": "Farkasos Piroska",
                                    "Órák mennyisége": "7"
                                },
                                {
                                    "Oktatók neve": "Jogrerős Pál",
                                    "Órák mennyisége": "2"
                                },
                                {
                                    "Oktatók neve": "Juhász András",
                                    "Órák mennyisége": "2"
                                },
                                {
                                    "Oktatók neve": "Kiss János",
                                    "Órák mennyisége": "4"
                                },
                                {
                                    "Oktatók neve": "Kovács András",
                                    "Órák mennyisége": "4"
                                },
                                {
                                    "Oktatók neve": "Kovács László",
                                    "Órák mennyisége": "4"
                                },
                                {
                                    "Oktatók neve": "Ludas Mátyás",
                                    "Órák mennyisége": "2"
                                },
                                {
                                    "Oktatók neve": "Nógrádi Kata",
                                    "Órák mennyisége": "1"
                                },
                                {
                                    "Oktatók neve": "Pelikán József",
                                    "Órák mennyisége": "6"
                                },
                                {
                                    "Oktatók neve": "Róbert Gida",
                                    "Órák mennyisége": "1"
                                },
                                {
                                    "Oktatók neve": "Szabó Andrera",
                                    "Órák mennyisége": "2"
                                },
                                {
                                    "Oktatók neve": "Szénási ászló",
                                    "Órák mennyisége": "2"
                                },
                                {
                                    "Oktatók neve": "Szentágotai Istvás",
                                    "Órák mennyisége": "8"
                                },
                                {
                                    "Oktatók neve": "Szép llonka",
                                    "Órák mennyisége": "4"
                                },
                                {
                                    "Oktatók neve": "Szerb László",
                                    "Órák mennyisége": "3"
                                },
                                {
                                    "Oktatók neve": "Ujfalussi István",
                                    "Órák mennyisége": "3"
                                },
                                {
                                    "Oktatók neve": "Varga Kata",
                                    "Órák mennyisége": "4"
                                },
                                {
                                    "Oktatók neve": "Vitéz János",
                                    "Órák mennyisége": "4"
                                }
                            ]
                        },
                        "text/html": "<table><tr><th>Oktatók neve</th><th>Órák mennyisége</th></tr><tr><td>Aranyi Mária</td><td>1</td></tr><tr><td>Balkán András</td><td>3</td></tr><tr><td>Farkasos Piroska</td><td>7</td></tr><tr><td>Jogrerős Pál</td><td>2</td></tr><tr><td>Juhász András</td><td>2</td></tr><tr><td>Kiss János</td><td>4</td></tr><tr><td>Kovács András</td><td>4</td></tr><tr><td>Kovács László</td><td>4</td></tr><tr><td>Ludas Mátyás</td><td>2</td></tr><tr><td>Nógrádi Kata</td><td>1</td></tr><tr><td>Pelikán József</td><td>6</td></tr><tr><td>Róbert Gida</td><td>1</td></tr><tr><td>Szabó Andrera</td><td>2</td></tr><tr><td>Szénási ászló</td><td>2</td></tr><tr><td>Szentágotai Istvás</td><td>8</td></tr><tr><td>Szép llonka</td><td>4</td></tr><tr><td>Szerb László</td><td>3</td></tr><tr><td>Ujfalussi István</td><td>3</td></tr><tr><td>Varga Kata</td><td>4</td></tr><tr><td>Vitéz János</td><td>4</td></tr></table>"
                    },
                    "metadata": {}
                }
            ],
            "execution_count": 6
        },
        {
            "cell_type": "markdown",
            "source": [
                "4. <span style=\"color: rgb(36, 41, 47); font-family: -apple-system, BlinkMacSystemFont, &quot;Segoe UI&quot;, Helvetica, Arial, sans-serif, &quot;Apple Color Emoji&quot;, &quot;Segoe UI Emoji&quot;; font-size: 16px;\">Van-e olyan tantárgy, amelyből nincs óra?</span>\n",
                "\n",
                "1. Jelentsük meg a tantárgy nevét és a tantárgyfelelős nevét!"
            ],
            "metadata": {
                "azdata_cell_guid": "6478e469-c094-472c-a772-ccd5b5c61516"
            },
            "attachments": {}
        },
        {
            "cell_type": "code",
            "source": [
                "select tan.Tantárgynév as 'Tantárgy', o.nev as 'Tárgyfelelős'\r\n",
                "from Tantárgyak tan left JOIN Oktatok o on tan.Tantárgyfelelős = o.oktato_id\r\n",
                "--hiány kell\r\n",
                ""
            ],
            "metadata": {
                "azdata_cell_guid": "02031ea2-3838-458d-839c-228e3b362b61",
                "language": "sql"
            },
            "outputs": [
                {
                    "output_type": "display_data",
                    "data": {
                        "text/html": "(13 rows affected)"
                    },
                    "metadata": {}
                },
                {
                    "output_type": "display_data",
                    "data": {
                        "text/html": "Total execution time: 00:00:00.005"
                    },
                    "metadata": {}
                },
                {
                    "output_type": "execute_result",
                    "execution_count": 16,
                    "data": {
                        "application/vnd.dataresource+json": {
                            "schema": {
                                "fields": [
                                    {
                                        "name": "Tantárgy"
                                    },
                                    {
                                        "name": "Tárgyfelelős"
                                    }
                                ]
                            },
                            "data": [
                                {
                                    "Tantárgy": "Az ürgeöntés alapjai",
                                    "Tárgyfelelős": "Balkán András"
                                },
                                {
                                    "Tantárgy": "Bevezetés az ürgeöntésbe",
                                    "Tárgyfelelős": "Balkán András"
                                },
                                {
                                    "Tantárgy": "Az ürge anatómiája",
                                    "Tárgyfelelős": "Pelikán József"
                                },
                                {
                                    "Tantárgy": "Az ürgeöntés hydrológiai alapjai I.",
                                    "Tárgyfelelős": "Ujfalussi István"
                                },
                                {
                                    "Tantárgy": "Az ürgeöntés hydrológiai alapjai II.",
                                    "Tárgyfelelős": "Balkán András"
                                },
                                {
                                    "Tantárgy": "Ürgeöntés az EU-ban",
                                    "Tárgyfelelős": "Pelikán József"
                                },
                                {
                                    "Tantárgy": "Fejezetek az ürgék jogaiból",
                                    "Tárgyfelelős": "Kovács László"
                                },
                                {
                                    "Tantárgy": "Folyami gáttan",
                                    "Tárgyfelelős": "Varga Kata"
                                },
                                {
                                    "Tantárgy": "Ürgevitel",
                                    "Tárgyfelelős": "Jogrerős Pál"
                                },
                                {
                                    "Tantárgy": "ü-business",
                                    "Tárgyfelelős": "Kovács László"
                                },
                                {
                                    "Tantárgy": "Öntési gyakorlat",
                                    "Tárgyfelelős": "Pelikán József"
                                },
                                {
                                    "Tantárgy": "Az öntés elmélete",
                                    "Tárgyfelelős": "Kovács László"
                                },
                                {
                                    "Tantárgy": "ürgefőzés",
                                    "Tárgyfelelős": "Kovács László"
                                }
                            ]
                        },
                        "text/html": "<table><tr><th>Tantárgy</th><th>Tárgyfelelős</th></tr><tr><td>Az ürgeöntés alapjai</td><td>Balkán András</td></tr><tr><td>Bevezetés az ürgeöntésbe</td><td>Balkán András</td></tr><tr><td>Az ürge anatómiája</td><td>Pelikán József</td></tr><tr><td>Az ürgeöntés hydrológiai alapjai I.</td><td>Ujfalussi István</td></tr><tr><td>Az ürgeöntés hydrológiai alapjai II.</td><td>Balkán András</td></tr><tr><td>Ürgeöntés az EU-ban</td><td>Pelikán József</td></tr><tr><td>Fejezetek az ürgék jogaiból</td><td>Kovács László</td></tr><tr><td>Folyami gáttan</td><td>Varga Kata</td></tr><tr><td>Ürgevitel</td><td>Jogrerős Pál</td></tr><tr><td>ü-business</td><td>Kovács László</td></tr><tr><td>Öntési gyakorlat</td><td>Pelikán József</td></tr><tr><td>Az öntés elmélete</td><td>Kovács László</td></tr><tr><td>ürgefőzés</td><td>Kovács László</td></tr></table>"
                    },
                    "metadata": {}
                }
            ],
            "execution_count": 16
        },
        {
            "cell_type": "markdown",
            "source": [
                "5. <span style=\"background-color: rgb(255, 255, 255); color: rgb(36, 41, 47); font-family: -apple-system, BlinkMacSystemFont, &quot;Segoe UI&quot;, Helvetica, Arial, sans-serif, &quot;Apple Color Emoji&quot;, &quot;Segoe UI Emoji&quot;; font-size: 16px;\">Hány óra van összesen a 120-as teremben?</span>"
            ],
            "metadata": {
                "azdata_cell_guid": "9edbbaf9-c276-4898-9a01-e1b2993c089f"
            },
            "attachments": {}
        },
        {
            "cell_type": "code",
            "source": [
                "select *\r\n",
                "from Termek t join Orak o on t.Tkód = o.terem\r\n",
                "WHERE t.Terem = 120"
            ],
            "metadata": {
                "azdata_cell_guid": "5ad5fdcb-2878-4111-861a-833bcd50e935",
                "language": "sql"
            },
            "outputs": [
                {
                    "output_type": "display_data",
                    "data": {
                        "text/html": "Total execution time: 00:00:00.005"
                    },
                    "metadata": {}
                },
                {
                    "output_type": "execute_result",
                    "execution_count": 27,
                    "data": {
                        "application/vnd.dataresource+json": {
                            "schema": {
                                "fields": [
                                    {
                                        "name": "Tkód"
                                    },
                                    {
                                        "name": "Terem"
                                    },
                                    {
                                        "name": "ora_id"
                                    },
                                    {
                                        "name": "tanar"
                                    },
                                    {
                                        "name": "nap"
                                    },
                                    {
                                        "name": "Sav"
                                    },
                                    {
                                        "name": "targy"
                                    },
                                    {
                                        "name": "terem"
                                    }
                                ]
                            },
                            "data": [
                                {
                                    "Tkód": "4",
                                    "Terem": "120",
                                    "ora_id": "163",
                                    "tanar": "3",
                                    "nap": "3",
                                    "Sav": "2",
                                    "targy": "1",
                                    "terem": "4"
                                },
                                {
                                    "Tkód": "4",
                                    "Terem": "120",
                                    "ora_id": "167",
                                    "tanar": "2",
                                    "nap": "1",
                                    "Sav": "4",
                                    "targy": "1",
                                    "terem": "4"
                                },
                                {
                                    "Tkód": "4",
                                    "Terem": "120",
                                    "ora_id": "170",
                                    "tanar": "104",
                                    "nap": "1",
                                    "Sav": "2",
                                    "targy": "1",
                                    "terem": "4"
                                },
                                {
                                    "Tkód": "4",
                                    "Terem": "120",
                                    "ora_id": "175",
                                    "tanar": "14",
                                    "nap": "4",
                                    "Sav": "4",
                                    "targy": "1",
                                    "terem": "4"
                                },
                                {
                                    "Tkód": "4",
                                    "Terem": "120",
                                    "ora_id": "179",
                                    "tanar": "2",
                                    "nap": "4",
                                    "Sav": "7",
                                    "targy": "1",
                                    "terem": "4"
                                },
                                {
                                    "Tkód": "4",
                                    "Terem": "120",
                                    "ora_id": "185",
                                    "tanar": "2",
                                    "nap": "4",
                                    "Sav": "3",
                                    "targy": "1",
                                    "terem": "4"
                                }
                            ]
                        },
                        "text/html": "<table><tr><th>Tkód</th><th>Terem</th><th>ora_id</th><th>tanar</th><th>nap</th><th>Sav</th><th>targy</th><th>terem</th></tr><tr><td>4</td><td>120</td><td>163</td><td>3</td><td>3</td><td>2</td><td>1</td><td>4</td></tr><tr><td>4</td><td>120</td><td>167</td><td>2</td><td>1</td><td>4</td><td>1</td><td>4</td></tr><tr><td>4</td><td>120</td><td>170</td><td>104</td><td>1</td><td>2</td><td>1</td><td>4</td></tr><tr><td>4</td><td>120</td><td>175</td><td>14</td><td>4</td><td>4</td><td>1</td><td>4</td></tr><tr><td>4</td><td>120</td><td>179</td><td>2</td><td>4</td><td>7</td><td>1</td><td>4</td></tr><tr><td>4</td><td>120</td><td>185</td><td>2</td><td>4</td><td>3</td><td>1</td><td>4</td></tr></table>"
                    },
                    "metadata": {}
                },
                {
                    "output_type": "error",
                    "ename": "",
                    "evalue": "Msg 245, Level 16, State 1, Line 1\r\nConversion failed when converting the nvarchar value 'VP 203.' to data type int.",
                    "traceback": []
                }
            ],
            "execution_count": 27
        },
        {
            "cell_type": "markdown",
            "source": [
                "**A 6-10 feladatokat halmazműveletek segítségével oldjuk meg, szintén a tanulmányi adatbázison**\n",
                "\n",
                "6. <span style=\"background-color:rgb(255, 255, 255);color:rgb(36, 41, 47);font-family:-apple-system, BlinkMacSystemFont, &quot;Segoe UI&quot;, Helvetica, Arial, sans-serif, &quot;Apple Color Emoji&quot;, &quot;Segoe UI Emoji&quot;;font-size:16px;font-weight:600;\">Jelenítsük meg azon tanárok azonosítóját és nevét, akik hétfői vagy keddi napokon tanítanak!</span>"
            ],
            "metadata": {
                "azdata_cell_guid": "5fe65c1c-2479-45ac-ad03-ec99d12eae21"
            },
            "attachments": {}
        },
        {
            "cell_type": "code",
            "source": [
                ""
            ],
            "metadata": {
                "azdata_cell_guid": "924f2dde-f1c2-4def-a7f9-dbf4bace7735",
                "language": "sql"
            },
            "outputs": [],
            "execution_count": null
        },
        {
            "cell_type": "markdown",
            "source": [
                "7. <span style=\"background-color: rgb(255, 255, 255); color: rgb(36, 41, 47); font-family: -apple-system, BlinkMacSystemFont, &quot;Segoe UI&quot;, Helvetica, Arial, sans-serif, &quot;Apple Color Emoji&quot;, &quot;Segoe UI Emoji&quot;; font-size: 16px; font-weight: 600;\">Melyek azok a tantárgyak, amelyek esetén van óra a 8.00-kor kezdődő sávban, de nincs a 12.30-kor kezdődő sávban?</span>"
            ],
            "metadata": {
                "azdata_cell_guid": "3aeb6bf5-b111-40d5-92b2-9712ce335696"
            },
            "attachments": {}
        },
        {
            "cell_type": "code",
            "source": [
                ""
            ],
            "metadata": {
                "azdata_cell_guid": "3e89b651-f56f-4102-af52-30eb2bbe360d",
                "language": "sql"
            },
            "outputs": [],
            "execution_count": null
        },
        {
            "cell_type": "markdown",
            "source": [
                "8. <span style=\"background-color: rgb(255, 255, 255); color: rgb(36, 41, 47); font-family: -apple-system, BlinkMacSystemFont, &quot;Segoe UI&quot;, Helvetica, Arial, sans-serif, &quot;Apple Color Emoji&quot;, &quot;Segoe UI Emoji&quot;; font-size: 16px; font-weight: 600;\">Listázzuk azokat a termeket, amelyekben oktat Kovács László és van olyan tanóra a teremben, ahol a tantárgy nevében nem szerepel az 'ürge' szó!</span>"
            ],
            "metadata": {
                "azdata_cell_guid": "26a504dc-ff6a-439f-94c0-4580eca3eacf"
            },
            "attachments": {}
        },
        {
            "cell_type": "code",
            "source": [
                ""
            ],
            "metadata": {
                "azdata_cell_guid": "1cbb8aeb-78b5-4350-aa45-e3202fdab85b",
                "language": "sql"
            },
            "outputs": [],
            "execution_count": null
        },
        {
            "cell_type": "markdown",
            "source": [
                "9. <span style=\"font-weight: 600; color: rgb(36, 41, 47); font-family: -apple-system, BlinkMacSystemFont, &quot;Segoe UI&quot;, Helvetica, Arial, sans-serif, &quot;Apple Color Emoji&quot;, &quot;Segoe UI Emoji&quot;; font-size: 16px;\">Készítsünk listát arról, hogy melyik tanárnak hány órája van a (munka) hét elején (hétfőn), hét közben (kedd, szerda és csütörtök), illetve a hét végén (péntek)!</span>\n",
                "\n",
                "1. Jelenítsük meg a tanár azonosítóját, nevét, az időszakot (hét eleje - hét közben - hét vége), valamint az óraszámot!\n",
                "2. A három megjelölt időszakot külön kérdezzük le, majd fűzzük össze a lekérdezések eredményeit!\n",
                "3. Rendezzük a listát az oktató neve, azon belül időszak szerint!"
            ],
            "metadata": {
                "azdata_cell_guid": "435e2860-2dd5-4877-90f4-34a43baeb53c"
            },
            "attachments": {}
        },
        {
            "cell_type": "code",
            "source": [
                ""
            ],
            "metadata": {
                "azdata_cell_guid": "ce846351-ddbe-4d8e-b8fb-2a92c73ac80b",
                "language": "sql"
            },
            "outputs": [],
            "execution_count": null
        },
        {
            "cell_type": "markdown",
            "source": [
                "10. <span style=\"background-color: rgb(255, 255, 255); color: rgb(36, 41, 47); font-family: -apple-system, BlinkMacSystemFont, &quot;Segoe UI&quot;, Helvetica, Arial, sans-serif, &quot;Apple Color Emoji&quot;, &quot;Segoe UI Emoji&quot;; font-size: 16px; font-weight: 600;\">Melyik napokon nincs órája Pelikán Józsefnek?</span>"
            ],
            "metadata": {
                "azdata_cell_guid": "217c5772-afe2-4a7c-b913-e3a3e09d6411"
            },
            "attachments": {}
        },
        {
            "cell_type": "code",
            "source": [
                "select nap\r\n",
                "FROM Napok\r\n",
                "EXCEPT\r\n",
                "SELECT n.nap\r\n",
                "from orak o join Napok n on o.nap = n.nap_id\r\n",
                "            join Oktatok okt on o.tanar = okt.oktato_id\r\n",
                "WHERE okt.nev = 'Pelikán József'"
            ],
            "metadata": {
                "azdata_cell_guid": "a9cc0926-3dbd-4ed8-8179-1c39d64a0762",
                "language": "sql"
            },
            "outputs": [],
            "execution_count": null
        },
        {
            "cell_type": "markdown",
            "source": [
                "**A 11-15 feladatok gyakorlásra szolgálnak a közelgő zh-ra :-)**\n",
                "\n",
                "11. _Készítsünk listát az oktatók adatairól!_\n",
                "\n",
                "1. Az oktatók titulusa és neve összefűzve jelenjen meg, közöttük szóközzel!\n",
                "2. Ha valakinek nincs titulusa, akkor csak a neve jelenjen meg, szóköz nélkül!\n",
                "3. A listát rendezzük a beosztás kódja, azon belül a státusz kódja szerint növekvő sorrendbe!\n",
                "4. Az oszlopokat nevezzük el értelemszerűen!"
            ],
            "metadata": {
                "azdata_cell_guid": "d2340f5f-1614-473c-b937-85740d67f7c1"
            },
            "attachments": {}
        },
        {
            "cell_type": "code",
            "source": [
                ""
            ],
            "metadata": {
                "azdata_cell_guid": "e99c2c53-898f-4787-b0e6-182d106dc16f",
                "language": "sql"
            },
            "outputs": [],
            "execution_count": null
        },
        {
            "cell_type": "markdown",
            "source": [
                "<span style=\"color: #09885a;\">12</span>. Készítsünk listát, amely megmutatja, hogy összesen hány tantárgy van kreditenkénti csoportosításban!\n",
                "\n",
                "  \n",
                "\n",
                "A listából hagyjuk ki azokat a tételeket, ahol ez a darabszám <span style=\"color: #09885a;\">1</span>!\n",
                "\n",
                "A Folyami gáttan tantárgyat ne vegyük figyelembe!\n",
                "\n",
                "A listát rendezzük darabszám szerint csökkenő sorrendbe!\n",
                "\n",
                "Az oszlopokat nevezzük el értelemszerűen!"
            ],
            "metadata": {
                "azdata_cell_guid": "a765e9d6-58b3-4171-872a-78f3118fd6e3"
            },
            "attachments": {}
        },
        {
            "cell_type": "code",
            "source": [
                ""
            ],
            "metadata": {
                "azdata_cell_guid": "422e8127-b652-4d3a-bfd7-9b1637b5781e",
                "language": "sql"
            },
            "outputs": [],
            "execution_count": null
        },
        {
            "cell_type": "markdown",
            "source": [
                "13. _Készítsünk listát az oktatók nevéről, a beosztásuk alapján elvárt és a tényleges óraszámukról!_\n",
                "\n",
                "1. Az oszlopok neve legyen 'Oktató neve', 'Elvárt óraszám' és 'Tényleges óraszám'\n",
                "2. Szűrjük a listát azokra az oktatókra, ahol az elvárt és a tényleges óraszám azonos"
            ],
            "metadata": {
                "azdata_cell_guid": "3f9237ae-f109-401c-acb9-31d75e73331b"
            },
            "attachments": {}
        },
        {
            "cell_type": "code",
            "source": [
                ""
            ],
            "metadata": {
                "azdata_cell_guid": "4b31bb89-cfbc-46b1-8639-85c462877786",
                "language": "sql"
            },
            "outputs": [],
            "execution_count": null
        },
        {
            "cell_type": "markdown",
            "source": [
                "14. _Készítsünk listát, amely megmutatja, hogy mely tantárgyból nincs óra egyáltalán!_\n",
                "\n",
                "1. Csak a tantárgy neve jelenjen meg!"
            ],
            "metadata": {
                "azdata_cell_guid": "f634e09a-85ef-4e70-8ec6-ef355dfddaa7"
            },
            "attachments": {}
        },
        {
            "cell_type": "code",
            "source": [
                ""
            ],
            "metadata": {
                "azdata_cell_guid": "88abc55b-2c78-495b-a72f-3f8f4eb5fe70",
                "language": "sql"
            },
            "outputs": [],
            "execution_count": null
        },
        {
            "cell_type": "markdown",
            "source": [
                "15. _Hány órájuk van az óraadóknak napi bontásban?_\n",
                "\n",
                "1. Csak a napok nevét és az óraszámot jelenítsük meg!\n",
                "2. Rendezzük a listát óraszám szerint növekvő sorrendbe!"
            ],
            "metadata": {
                "azdata_cell_guid": "4cbf2f0d-a65d-480a-8186-ccdb24498443"
            },
            "attachments": {}
        },
        {
            "cell_type": "code",
            "source": [
                ""
            ],
            "metadata": {
                "azdata_cell_guid": "c148aee8-bc85-40bf-b80a-a4898a6c05cb",
                "language": "sql"
            },
            "outputs": [],
            "execution_count": null
        }
    ]
}