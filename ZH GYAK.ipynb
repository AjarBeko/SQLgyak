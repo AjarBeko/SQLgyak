{
    "metadata": {
        "kernelspec": {
            "name": "SQL",
            "display_name": "SQL",
            "language": "sql"
        },
        "language_info": {
            "name": "sql",
            "version": ""
        }
    },
    "nbformat_minor": 2,
    "nbformat": 4,
    "cells": [
        {
            "cell_type": "markdown",
            "source": [
                "Készítsünk listát, amely megjeleníti a vendégek adatait!\n",
                "\n",
                "- Egy új oszlopban számoljuk ki a vendég életkorát (években)\n",
                "- Egy másik új oszlopban határozzuk meg, hogy születési dátum szerint növekvő rendezésnél mennyi az adott ügyfél. az előtte lévő 2 ügyfél és az utána lévő 2 ügyfél átlagos életkora! Az oszlopot nevezzük el értelemszerűen!"
            ],
            "metadata": {
                "azdata_cell_guid": "81d5bc59-1b98-445c-9cd4-4f8eec3e882d"
            },
            "attachments": {}
        },
        {
            "cell_type": "code",
            "source": [
                ""
            ],
            "metadata": {
                "azdata_cell_guid": "cfdf7912-1cec-448a-ae57-421a03ac60f9",
                "language": "sql"
            },
            "outputs": [],
            "execution_count": null
        },
        {
            "cell_type": "markdown",
            "source": [
                "Kérdezzük le, hogy melyik ügyfél (USERNEV) hány különböző szálláshelyen foglalt!\n",
                "\n",
                "a. A listában azok az ügyfelek is jelenjenek meg, akiknek még nem volt foglalásuk\n",
                "\n",
                "b. Megfelelően jelölve jelenjen meg a végösszeg is!"
            ],
            "metadata": {
                "azdata_cell_guid": "f62dca3d-a62b-44e2-b575-ea0ecfc24704"
            },
            "attachments": {}
        },
        {
            "cell_type": "code",
            "source": [
                ""
            ],
            "metadata": {
                "azdata_cell_guid": "b18cbea8-bf4e-455c-9708-bab64f3fdb8c",
                "language": "sql"
            },
            "outputs": [],
            "execution_count": null
        },
        {
            "cell_type": "markdown",
            "source": [
                "Egészítsük ki a megkezdett lekérdezést, amely listázza azon vendégek azonosítóját és nevét, akik már legalább egyszer foglaltak, és MINDEN ESETBEN összesen két fő számára (felnőtt + gyermek szám összege)! \n",
                "\n",
                " a. A lista ne tartalmazzon ismétlődő sorokat!"
            ],
            "metadata": {
                "azdata_cell_guid": "08d090e6-1ece-4c8d-9004-93b492b20678"
            },
            "attachments": {}
        },
        {
            "cell_type": "code",
            "source": [
                "SELECT Válasz 1 3 kérdés\r\n",
                "\r\n",
                "FROM Vendeg v JOIN Foglalas f ON v.USERNEV = f.UGYFEL_FK \r\n",
                "\r\n",
                "WHERE Válasz 2 3 kérdés\r\n",
                "\r\n",
                "( \r\n",
                "\r\n",
                "  SELECT Válasz 3 3 kérdés\r\n",
                "\r\n",
                "  FROM Foglalas f2 \r\n",
                "\r\n",
                "  WHERE Válasz 4 3 kérdés\r\n",
                " AND \r\n",
                "\r\n",
                "               f2.FELNOTT_SZAM + f2.GYERMEK_SZAM <>2\r\n",
                "\r\n",
                " )"
            ],
            "metadata": {
                "azdata_cell_guid": "aed5c3b7-d75c-4fe5-9a3c-88147fdfd5b9",
                "language": "sql"
            },
            "outputs": [],
            "execution_count": null
        }
    ]
}