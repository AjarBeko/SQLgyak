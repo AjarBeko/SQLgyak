{
    "metadata": {
        "kernelspec": {
            "name": "SQL",
            "display_name": "SQL",
            "language": "sql"
        },
        "language_info": {
            "name": "sql",
            "version": ""
        }
    },
    "nbformat_minor": 2,
    "nbformat": 4,
    "cells": [
        {
            "cell_type": "markdown",
            "source": [
                "Kérdezzük le, hogy melyik ügyfél (USERNEV) hány különböző szálláshelyen foglalt!\n",
                "\n",
                "a. A listában azok az ügyfelek is jelenjenek meg, akiknek még nem volt foglalásuk\n",
                "\n",
                "b. Megfelelően jelölve jelenjen meg a végösszeg is!"
            ],
            "metadata": {
                "azdata_cell_guid": "f62dca3d-a62b-44e2-b575-ea0ecfc24704"
            },
            "attachments": {}
        },
        {
            "cell_type": "code",
            "source": [
                "SELECT iif(GROUPING_ID(v.usernev) = 1, 'Végösszeg', v.usernev), \r\n",
                "        count(distinct szh.SZALLAS_ID)\r\n",
                "from Vendeg v left join Foglalas f on  v.USERNEV = f.UGYFEL_FK\r\n",
                "                    join szoba sz on f.SZOBA_FK = sz.SZOBA_ID\r\n",
                "                    join szallashely szh on szh.SZALLAS_ID = sz.SZALLAS_FK\r\n",
                "GROUP by rollup(v.usernev)"
            ],
            "metadata": {
                "azdata_cell_guid": "b18cbea8-bf4e-455c-9708-bab64f3fdb8c",
                "language": "sql"
            },
            "outputs": [
                {
                    "output_type": "display_data",
                    "data": {
                        "text/html": "Commands completed successfully."
                    },
                    "metadata": {}
                },
                {
                    "output_type": "display_data",
                    "data": {
                        "text/html": "Total execution time: 00:00:00"
                    },
                    "metadata": {}
                }
            ],
            "execution_count": 2
        },
        {
            "cell_type": "markdown",
            "source": [
                "Készítsünk listát, amely megjeleníti a vendégek adatait!\n",
                "\n",
                "- Egy új oszlopban számoljuk ki a vendég életkorát (években)\n",
                "- Egy másik új oszlopban határozzuk meg, hogy születési dátum szerint növekvő rendezésnél mennyi az adott ügyfél. az előtte lévő 2 ügyfél és az utána lévő 2 ügyfél átlagos életkora! Az oszlopot nevezzük el értelemszerűen!"
            ],
            "metadata": {
                "azdata_cell_guid": "81d5bc59-1b98-445c-9cd4-4f8eec3e882d"
            },
            "attachments": {}
        },
        {
            "cell_type": "code",
            "source": [
                ""
            ],
            "metadata": {
                "azdata_cell_guid": "cfdf7912-1cec-448a-ae57-421a03ac60f9",
                "language": "sql"
            },
            "outputs": [
                {
                    "output_type": "error",
                    "evalue": "Msg 402, Level 16, State 1, Line 1\r\nThe data types datetime and date are incompatible in the subtract operator.",
                    "ename": "",
                    "traceback": []
                },
                {
                    "output_type": "display_data",
                    "data": {
                        "text/html": "Total execution time: 00:00:00.001"
                    },
                    "metadata": {}
                }
            ],
            "execution_count": 4
        },
        {
            "cell_type": "markdown",
            "source": [
                "Egészítsük ki a megkezdett lekérdezést, amely listázza azon vendégek azonosítóját és nevét, akik már legalább egyszer foglaltak, és MINDEN ESETBEN összesen két fő számára (felnőtt + gyermek szám összege)! \n",
                "\n",
                " a. A lista ne tartalmazzon ismétlődő sorokat!"
            ],
            "metadata": {
                "azdata_cell_guid": "08d090e6-1ece-4c8d-9004-93b492b20678"
            },
            "attachments": {}
        },
        {
            "cell_type": "code",
            "source": [
                "SELECT distinct v.USERNEV, v.NEV\r\n",
                "FROM Vendeg v JOIN Foglalas f ON v.USERNEV = f.UGYFEL_FK \r\n",
                "WHERE not EXISTS\r\n",
                "( \r\n",
                "  SELECT *\r\n",
                "  FROM Foglalas f2 \r\n",
                "  WHERE f2.UGYFEL_FK = v.USERNEV  AND f2.FELNOTT_SZAM + f2.GYERMEK_SZAM <>2\r\n",
                " )"
            ],
            "metadata": {
                "azdata_cell_guid": "aed5c3b7-d75c-4fe5-9a3c-88147fdfd5b9",
                "language": "sql"
            },
            "outputs": [
                {
                    "output_type": "display_data",
                    "data": {
                        "text/html": "(10 rows affected)"
                    },
                    "metadata": {}
                },
                {
                    "output_type": "display_data",
                    "data": {
                        "text/html": "Total execution time: 00:00:00.021"
                    },
                    "metadata": {}
                },
                {
                    "output_type": "execute_result",
                    "metadata": {},
                    "execution_count": 5,
                    "data": {
                        "application/vnd.dataresource+json": {
                            "schema": {
                                "fields": [
                                    {
                                        "name": "USERNEV"
                                    },
                                    {
                                        "name": "NEV"
                                    }
                                ]
                            },
                            "data": [
                                {
                                    "USERNEV": "MIKLOSB",
                                    "NEV": "Balla Miklós"
                                },
                                {
                                    "USERNEV": "andras4",
                                    "NEV": "Back András"
                                },
                                {
                                    "USERNEV": "ANDRASN",
                                    "NEV": "Nagy András"
                                },
                                {
                                    "USERNEV": "szabolcs",
                                    "NEV": "Bodor Szabolcs"
                                },
                                {
                                    "USERNEV": "jozsef",
                                    "NEV": "Gergely József"
                                },
                                {
                                    "USERNEV": "kristof4",
                                    "NEV": "Poprádi Kristóf"
                                },
                                {
                                    "USERNEV": "tibor2",
                                    "NEV": "Dániel Tibor"
                                },
                                {
                                    "USERNEV": "balu",
                                    "NEV": "Endresz Bálint"
                                },
                                {
                                    "USERNEV": "timea",
                                    "NEV": "Papós Tímea"
                                },
                                {
                                    "USERNEV": "ESZTERE",
                                    "NEV": "Érsek Eszter"
                                }
                            ]
                        },
                        "text/html": [
                            "<table>",
                            "<tr><th>USERNEV</th><th>NEV</th></tr>",
                            "<tr><td>MIKLOSB</td><td>Balla Miklós</td></tr>",
                            "<tr><td>andras4</td><td>Back András</td></tr>",
                            "<tr><td>ANDRASN</td><td>Nagy András</td></tr>",
                            "<tr><td>szabolcs</td><td>Bodor Szabolcs</td></tr>",
                            "<tr><td>jozsef</td><td>Gergely József</td></tr>",
                            "<tr><td>kristof4</td><td>Poprádi Kristóf</td></tr>",
                            "<tr><td>tibor2</td><td>Dániel Tibor</td></tr>",
                            "<tr><td>balu</td><td>Endresz Bálint</td></tr>",
                            "<tr><td>timea</td><td>Papós Tímea</td></tr>",
                            "<tr><td>ESZTERE</td><td>Érsek Eszter</td></tr>",
                            "</table>"
                        ]
                    }
                }
            ],
            "execution_count": 5
        }
    ]
}